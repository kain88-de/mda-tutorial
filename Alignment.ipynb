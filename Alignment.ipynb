{
 "cells": [
  {
   "cell_type": "markdown",
   "metadata": {},
   "source": [
    "In this tutorial will write a alignment algorithm with MDAnalysis functions and later look into the documentation to find functions for the implementation of the algorithm."
   ]
  },
  {
   "cell_type": "code",
   "execution_count": 2,
   "metadata": {
    "collapsed": false
   },
   "outputs": [],
   "source": [
    "from __future__ import print_function\n",
    "%matplotlib inline\n",
    "import matplotlib.pyplot as plt\n",
    "import numpy as np\n",
    "import MDAnalysis as mda"
   ]
  },
  {
   "cell_type": "markdown",
   "metadata": {},
   "source": [
    "First we have to load the trajectory we want to align and a reference structure."
   ]
  },
  {
   "cell_type": "code",
   "execution_count": 79,
   "metadata": {
    "collapsed": true
   },
   "outputs": [],
   "source": [
    "trj = mda.Universe('data/adk.psf', 'data/adk_dims.dcd')\n",
    "ref  = mda.Universe('data/adk.psf', 'data/adk_open.pdb')"
   ]
  },
  {
   "cell_type": "markdown",
   "metadata": {},
   "source": [
    "# Develop Alignment Algorithm\n",
    "\n",
    "We want to align align the ADK protein on the backbone of the open state. So the first thing is to create \n",
    "a selection of the backbone for the reference and trajectory."
   ]
  },
  {
   "cell_type": "code",
   "execution_count": 80,
   "metadata": {
    "collapsed": true
   },
   "outputs": [],
   "source": [
    "ref_bb = ref.atoms.select_atoms('backbone')\n",
    "trj_bb = trj.atoms.select_atoms('backbone')"
   ]
  },
  {
   "cell_type": "markdown",
   "metadata": {},
   "source": [
    "First we can look at the RMSD before alignment"
   ]
  },
  {
   "cell_type": "code",
   "execution_count": 81,
   "metadata": {
    "collapsed": false
   },
   "outputs": [
    {
     "name": "stdout",
     "output_type": "stream",
     "text": [
      "RMSD = 18.8356021194\n"
     ]
    }
   ],
   "source": [
    "RMSD_before = mda.analysis.align.rms.rmsd(trj_bb.positions, ref_bb.positions)\n",
    "print('RMSD = {}'.format(RMSD_before))"
   ]
  },
  {
   "cell_type": "markdown",
   "metadata": {},
   "source": [
    "The alignment algorithm is based an RMSD comparison between two structures. This means we will determine a rotation matrix that minimizes the RMSD between two structures. We can use `MDAnalysis.analysis.align.rotation_matrix` for this.\n",
    "\n",
    "Very important is that `rotation_matrix` is only calculating a rotation so we have to center both structures at the same point first. A common choice is the center of mass of the reference structure."
   ]
  },
  {
   "cell_type": "code",
   "execution_count": 82,
   "metadata": {
    "collapsed": false
   },
   "outputs": [
    {
     "name": "stdout",
     "output_type": "stream",
     "text": [
      "RMSD after alignment = 6.82368820119\n"
     ]
    }
   ],
   "source": [
    "ref_bb_com = ref_bb.center_of_mass()\n",
    "trj_bb_com = trj_bb.center_of_mass()\n",
    "\n",
    "ref_xyz = ref_bb.positions - ref_bb_com\n",
    "trj_xyz = trj_bb.positions - trj_bb_com\n",
    "\n",
    "R, rmsd = mda.analysis.align.rotation_matrix(trj_xyz, ref_xyz)\n",
    "print('RMSD after alignment = {}'.format(rmsd))"
   ]
  },
  {
   "cell_type": "markdown",
   "metadata": {},
   "source": [
    "R is the rotation_matrix we need to the alignment and rmsd is the RMSD after the alignment is done.\n",
    "\n",
    "To align the structures in the lab coordinate system we can't just apply R. First we have to move the structures to be centered at `ref_bb_com` then we can rotate them. Later we have to move the structures back"
   ]
  },
  {
   "cell_type": "code",
   "execution_count": 83,
   "metadata": {
    "collapsed": false
   },
   "outputs": [
    {
     "data": {
      "text/plain": [
       "array([ 0.12435671, -0.00120173, -0.33425006])"
      ]
     },
     "execution_count": 83,
     "metadata": {},
     "output_type": "execute_result"
    }
   ],
   "source": [
    "trj.atoms.translate(-trj_bb_com)\n",
    "trj.atoms.rotate(R)\n",
    "trj.atoms.translate(trj_bb_com)"
   ]
  },
  {
   "cell_type": "code",
   "execution_count": 84,
   "metadata": {
    "collapsed": false
   },
   "outputs": [
    {
     "name": "stdout",
     "output_type": "stream",
     "text": [
      "RMSD before = 18.8356021194\n",
      "RMSD after = 19.1156040757\n"
     ]
    }
   ],
   "source": [
    "RMSD_after = mda.analysis.align.rms.rmsd(trj_bb.positions, ref_bb.positions)\n",
    "print('RMSD before = {}'.format(RMSD_before))\n",
    "print('RMSD after = {}'.format(RMSD_after))"
   ]
  },
  {
   "cell_type": "markdown",
   "metadata": {},
   "source": [
    "Now we want to apply this algorithm on a complete trajectory and save the result in a file called `rmsd-fit.dcd`."
   ]
  },
  {
   "cell_type": "code",
   "execution_count": 15,
   "metadata": {
    "collapsed": false
   },
   "outputs": [],
   "source": [
    "rmsd = np.zeros(len(trj.trajectory))\n",
    "\n",
    "with mda.Writer('rmss-fit.dcd', trj.atoms.n_atoms, \n",
    "                start=trj.trajectory.start_timestep,\n",
    "                step=trj.trajectory.skip_timestep,\n",
    "                dt=trj.trajectory.delta) as w:\n",
    "    for i, ts in enumerate(trj.trajectory):\n",
    "        com = trj_atoms.center_of_mass()\n",
    "        trj_xyz = trj_atoms.positions - com\n",
    "        R, rmsd[i] = mda.analysis.align.rotation_matrix(trj_xyz, ref_xyz)\n",
    "\n",
    "        trj.atoms.translate(-com)\n",
    "        trj.atoms.rotate(R)\n",
    "        trj.atoms.translate(com)\n",
    "        w.write(trj)"
   ]
  },
  {
   "cell_type": "markdown",
   "metadata": {},
   "source": [
    "We can look how the structures slowly goes into the open conformation by plotting the RMSD value after the alignment vs the frame."
   ]
  },
  {
   "cell_type": "code",
   "execution_count": 19,
   "metadata": {
    "collapsed": false
   },
   "outputs": [
    {
     "data": {
      "image/png": "[encoded data removed]",
      "text/plain": [
       "<matplotlib.figure.Figure at 0x7fbc8cd00590>"
      ]
     },
     "metadata": {},
     "output_type": "display_data"
    }
   ],
   "source": [
    "f, ax = plt.subplots()\n",
    "\n",
    "ax.plot(rmsd, '.-')\n",
    "ax.set(xlabel='frame', ylabel='rmsd',\n",
    "       title='RMSD of ADK to open conformation')\n",
    "plt.tight_layout()"
   ]
  },
  {
   "cell_type": "markdown",
   "metadata": {},
   "source": [
    "# Use MDAnalysis algorithm"
   ]
  },
  {
   "cell_type": "code",
   "execution_count": 77,
   "metadata": {
    "collapsed": false,
    "scrolled": true
   },
   "outputs": [],
   "source": [
    "rmsd = np.zeros((len(trj.trajectory), 2))\n",
    "\n",
    "with mda.Writer('rms-alignment.dcd', trj.atoms.n_atoms, \n",
    "                start=trj.trajectory.start_timestep,\n",
    "                step=trj.trajectory.skip_timestep,\n",
    "                dt=trj.trajectory.delta) as w:\n",
    "    for i, ts in enumerate(trj.trajectory):\n",
    "        rmsd[i] = mda.analysis.align.alignto(trj, ref, select='backbone')\n",
    "        w.write(trj)"
   ]
  },
  {
   "cell_type": "code",
   "execution_count": 78,
   "metadata": {
    "collapsed": false
   },
   "outputs": [
    {
     "data": {
      "image/png": "[encoded data removed]",
      "text/plain": [
       "<matplotlib.figure.Figure at 0x7fbc87b61690>"
      ]
     },
     "metadata": {},
     "output_type": "display_data"
    }
   ],
   "source": [
    "f, (ax1, ax2) = plt.subplots(1, 2, figsize=plt.figaspect(.5))\n",
    "\n",
    "def _plot(ax, rmsd):\n",
    "    ax.plot(rmsd, '.-')\n",
    "    ax.set(xlabel='frame', ylabel='rmsd')\n",
    "    \n",
    "_plot(ax1, rmsd[:, 0])\n",
    "ax1.set(title='RMSD before alignment')\n",
    "\n",
    "_plot(ax2, rmsd[:, 1])\n",
    "ax2.set(title='RMSD after alignment')\n",
    "\n",
    "plt.tight_layout()"
   ]
  },
  {
   "cell_type": "code",
   "execution_count": null,
   "metadata": {
    "collapsed": true
   },
   "outputs": [],
   "source": []
  }
 ],
 "metadata": {
  "kernelspec": {
   "display_name": "Python 2",
   "language": "python",
   "name": "python2"
  },
  "language_info": {
   "codemirror_mode": {
    "name": "ipython",
    "version": 2
   },
   "file_extension": ".py",
   "mimetype": "text/x-python",
   "name": "python",
   "nbconvert_exporter": "python",
   "pygments_lexer": "ipython2",
   "version": "2.7.10"
  }
 },
 "nbformat": 4,
 "nbformat_minor": 0
}
