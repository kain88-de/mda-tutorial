{
 "cells": [
  {
   "cell_type": "markdown",
   "metadata": {},
   "source": [
    "In this tutorial will write a alignment algorithm with MDAnalysis functions and later look into the documentation to find functions for the implementation of the algorithm."
   ]
  },
  {
   "cell_type": "code",
   "execution_count": 2,
   "metadata": {
    "collapsed": false
   },
   "outputs": [],
   "source": [
    "from __future__ import print_function\n",
    "%matplotlib inline\n",
    "import matplotlib.pyplot as plt\n",
    "import numpy as np\n",
    "import MDAnalysis as mda"
   ]
  },
  {
   "cell_type": "markdown",
   "metadata": {},
   "source": [
    "First we have to load the trajectory we want to align and a reference structure."
   ]
  },
  {
   "cell_type": "code",
   "execution_count": 3,
   "metadata": {
    "collapsed": true
   },
   "outputs": [],
   "source": [
    "trj = mda.Universe('data/adk.psf', 'data/adk_dims.dcd')\n",
    "ref  = mda.Universe('data/adk.psf', 'data/adk_open.pdb')"
   ]
  },
  {
   "cell_type": "markdown",
   "metadata": {},
   "source": [
    "# Develop Alignment Algorithm\n",
    "\n",
    "We want to align align the ADK protein on the backbone of the open state. So the first thing is to create \n",
    "a selection of the backbone for the reference and trajectory."
   ]
  },
  {
   "cell_type": "code",
   "execution_count": 4,
   "metadata": {
    "collapsed": true
   },
   "outputs": [],
   "source": [
    "ref_bb = ref.atoms.select_atoms('backbone')\n",
    "trj_bb = trj.atoms.select_atoms('backbone')"
   ]
  },
  {
   "cell_type": "markdown",
   "metadata": {},
   "source": [
    "## RMSD Calculation\n",
    "\n",
    "Our alignment algorithm will be based on comparing the Root Mean Square Deviation (RMSD). The RMSD is a measure for the deviation of the distance between atoms in two structures.\n",
    "\n",
    "\\begin{align}\n",
    "  RMSD(x, y) = \\sqrt{\\frac{\\sum_{i=1}^{3N} (x_i - y_i)^2}{3N}}\n",
    "\\end{align}\n",
    "\n",
    "$N$ is the number of atoms of both structures here. We can calculate the RMSD of the first frame in our trajectory with the reference"
   ]
  },
  {
   "cell_type": "code",
   "execution_count": 6,
   "metadata": {
    "collapsed": false
   },
   "outputs": [
    {
     "data": {
      "text/plain": [
       "340.74514400795215"
      ]
     },
     "execution_count": 6,
     "metadata": {},
     "output_type": "execute_result"
    }
   ],
   "source": [
    "np.sqrt(np.sum((trj_bb.positions - ref_bb.positions))**2 / (3 * trj_bb.n_atoms))"
   ]
  },
  {
   "cell_type": "markdown",
   "metadata": {},
   "source": [
    "** NOTE: **\n",
    "\n",
    "The RMSD is sensitive to the origin of our structures. By common convention structures are normally centered\n",
    "at either the center of mass or center of geometry before calculating the RMSD. We will use the center of mass now."
   ]
  },
  {
   "cell_type": "code",
   "execution_count": 7,
   "metadata": {
    "collapsed": false
   },
   "outputs": [
    {
     "data": {
      "text/plain": [
       "12.651793000729707"
      ]
     },
     "execution_count": 7,
     "metadata": {},
     "output_type": "execute_result"
    }
   ],
   "source": [
    "trj_xyz = trj_bb.positions - trj_bb.center_of_mass()\n",
    "ref_xyz = ref_bb.positions - ref_bb.center_of_mass()\n",
    "\n",
    "np.sqrt(np.sum((trj_xyz - ref_xyz) ** 2 / (3 * trj_bb.n_atoms)))"
   ]
  },
  {
   "cell_type": "code",
   "execution_count": 8,
   "metadata": {
    "collapsed": true
   },
   "outputs": [],
   "source": [
    "def RMSD(a, b):\n",
    "    a_xyz = a.positions - a.center_of_mass()\n",
    "    b_xyz = b.positions - b.center_of_mass()\n",
    "    return np.sqrt(np.sum((a_xyz - b_xyz) ** 2 / (3 * a.n_atoms)))"
   ]
  },
  {
   "cell_type": "markdown",
   "metadata": {},
   "source": [
    "For later comparison we will save the current RMSD in a variable called `RMSD_before`"
   ]
  },
  {
   "cell_type": "code",
   "execution_count": 9,
   "metadata": {
    "collapsed": false
   },
   "outputs": [
    {
     "name": "stdout",
     "output_type": "stream",
     "text": [
      "RMSD before alignment = 12.7520205138\n"
     ]
    }
   ],
   "source": [
    "RMSD_before = RMSD(trj.atoms, ref.atoms)\n",
    "print('RMSD before alignment = {}'.format(RMSD_before))"
   ]
  },
  {
   "cell_type": "markdown",
   "metadata": {},
   "source": [
    "## Alignment of proteins"
   ]
  },
  {
   "cell_type": "markdown",
   "metadata": {},
   "source": [
    "The alignment algorithm is based an RMSD comparison between two structures. This means we will determine a rotation matrix that minimizes the RMSD between two structures. We can use `MDAnalysis.analysis.align.rotation_matrix` for this.\n",
    "\n",
    "Very important is that `rotation_matrix` is only calculating a rotation so we have to center both structures at the same point first. A common choice is the center of mass of the reference structure."
   ]
  },
  {
   "cell_type": "code",
   "execution_count": 10,
   "metadata": {
    "collapsed": false
   },
   "outputs": [
    {
     "name": "stdout",
     "output_type": "stream",
     "text": [
      "RMSD after alignment = 6.82368820119\n"
     ]
    }
   ],
   "source": [
    "ref_bb_com = ref_bb.center_of_mass()\n",
    "trj_bb_com = trj_bb.center_of_mass()\n",
    "\n",
    "ref_xyz = ref_bb.positions - ref_bb_com\n",
    "trj_xyz = trj_bb.positions - trj_bb_com\n",
    "\n",
    "R, rmsd = mda.analysis.align.rotation_matrix(trj_xyz, ref_xyz)\n",
    "print('RMSD after alignment = {}'.format(rmsd))"
   ]
  },
  {
   "cell_type": "markdown",
   "metadata": {},
   "source": [
    "R is the rotation_matrix we need to the alignment and rmsd is the RMSD after the alignment is done.\n",
    "\n",
    "To align the structures in the lab coordinate system we can't just apply R. First we have to move the structures to be centered at `ref_bb_com` then we can rotate them. Later we have to move the structures back"
   ]
  },
  {
   "cell_type": "code",
   "execution_count": 11,
   "metadata": {
    "collapsed": false
   },
   "outputs": [
    {
     "data": {
      "text/plain": [
       "array([ 0.12435671, -0.00120173, -0.33425006])"
      ]
     },
     "execution_count": 11,
     "metadata": {},
     "output_type": "execute_result"
    }
   ],
   "source": [
    "trj.atoms.translate(-trj_bb_com)\n",
    "trj.atoms.rotate(R)\n",
    "trj.atoms.translate(trj_bb_com)"
   ]
  },
  {
   "cell_type": "markdown",
   "metadata": {},
   "source": [
    "Just for fun we can now check that the RMSD has changed using our own RMSD function"
   ]
  },
  {
   "cell_type": "code",
   "execution_count": 12,
   "metadata": {
    "collapsed": false
   },
   "outputs": [
    {
     "name": "stdout",
     "output_type": "stream",
     "text": [
      "RMSD before = 12.7520205138\n",
      "RMSD after = 4.02327114509\n"
     ]
    }
   ],
   "source": [
    "RMSD_after = RMSD(trj.atoms, ref.atoms)\n",
    "print('RMSD before = {}'.format(RMSD_before))\n",
    "print('RMSD after = {}'.format(RMSD_after))"
   ]
  },
  {
   "cell_type": "markdown",
   "metadata": {},
   "source": [
    "## Align a complete trajectory."
   ]
  },
  {
   "cell_type": "markdown",
   "metadata": {},
   "source": [
    "Now we want to apply this algorithm on a complete trajectory and save the result in a file called `rmsd-fit.dcd`."
   ]
  },
  {
   "cell_type": "code",
   "execution_count": 13,
   "metadata": {
    "collapsed": false
   },
   "outputs": [],
   "source": [
    "rmsd = np.zeros(len(trj.trajectory))\n",
    "\n",
    "with mda.Writer('rmsd-fit.dcd', trj.atoms.n_atoms, \n",
    "                start=trj.trajectory.start_timestep,\n",
    "                step=trj.trajectory.skip_timestep,\n",
    "                dt=trj.trajectory.delta) as w:\n",
    "    for i, ts in enumerate(trj.trajectory):\n",
    "        com = trj_bb.center_of_mass()\n",
    "        trj_xyz = trj_bb.positions - com\n",
    "        R, rmsd[i] = mda.analysis.align.rotation_matrix(trj_xyz, ref_xyz)\n",
    "\n",
    "        trj.atoms.translate(-com)\n",
    "        trj.atoms.rotate(R)\n",
    "        trj.atoms.translate(com)\n",
    "        w.write(trj)"
   ]
  },
  {
   "cell_type": "markdown",
   "metadata": {},
   "source": [
    "We can look how the structures slowly goes into the open conformation by plotting the RMSD value after the alignment vs the frame."
   ]
  },
  {
   "cell_type": "code",
   "execution_count": 14,
   "metadata": {
    "collapsed": false
   },
   "outputs": [
    {
     "data": {
      "image/png": "[encoded data removed]",
      "text/plain": [
       "<matplotlib.figure.Figure at 0x7f130e8c0050>"
      ]
     },
     "metadata": {},
     "output_type": "display_data"
    }
   ],
   "source": [
    "f, ax = plt.subplots()\n",
    "\n",
    "ax.plot(rmsd, '.-')\n",
    "ax.set(xlabel='frame', ylabel='rmsd',\n",
    "       title='RMSD of ADK to open conformation')\n",
    "plt.tight_layout()"
   ]
  },
  {
   "cell_type": "markdown",
   "metadata": {},
   "source": [
    "# Use MDAnalysis algorithm"
   ]
  },
  {
   "cell_type": "markdown",
   "metadata": {},
   "source": [
    "For convenience MDAnalysis already includes a function which makes the alignment of two proteins easy."
   ]
  },
  {
   "cell_type": "code",
   "execution_count": 15,
   "metadata": {
    "collapsed": false,
    "scrolled": true
   },
   "outputs": [],
   "source": [
    "rmsd_mda = np.zeros((len(trj.trajectory), 2))\n",
    "\n",
    "with mda.Writer('rms-alignment.dcd', trj.atoms.n_atoms, \n",
    "                start=trj.trajectory.start_timestep,\n",
    "                step=trj.trajectory.skip_timestep,\n",
    "                dt=trj.trajectory.delta) as w:\n",
    "    for i, ts in enumerate(trj.trajectory):\n",
    "        rmsd_mda[i] = mda.analysis.align.alignto(trj, ref, select='backbone')\n",
    "        w.write(trj)"
   ]
  },
  {
   "cell_type": "code",
   "execution_count": 16,
   "metadata": {
    "collapsed": false
   },
   "outputs": [
    {
     "data": {
      "image/png": "[encoded data removed]",
      "text/plain": [
       "<matplotlib.figure.Figure at 0x7f1315a6be90>"
      ]
     },
     "metadata": {},
     "output_type": "display_data"
    }
   ],
   "source": [
    "f, ax = plt.subplots()\n",
    "\n",
    "# the aligned rmsd is saved in the second column of the array\n",
    "ax.plot(rmsd_mda[:, 1], '.-')\n",
    "ax.set(xlabel='frame', ylabel='rmsd',\n",
    "       title='RMSD of ADK to open conformation')\n",
    "plt.tight_layout()"
   ]
  },
  {
   "cell_type": "code",
   "execution_count": null,
   "metadata": {
    "collapsed": true
   },
   "outputs": [],
   "source": []
  }
 ],
 "metadata": {
  "kernelspec": {
   "display_name": "Python 2",
   "language": "python",
   "name": "python2"
  },
  "language_info": {
   "codemirror_mode": {
    "name": "ipython",
    "version": 2
   },
   "file_extension": ".py",
   "mimetype": "text/x-python",
   "name": "python",
   "nbconvert_exporter": "python",
   "pygments_lexer": "ipython2",
   "version": "2.7.10"
  }
 },
 "nbformat": 4,
 "nbformat_minor": 0
}
