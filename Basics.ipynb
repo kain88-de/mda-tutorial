{
 "cells": [
  {
   "cell_type": "code",
   "execution_count": 2,
   "metadata": {
    "collapsed": false
   },
   "outputs": [],
   "source": [
    "%matplotlib inline\n",
    "import matplotlib.pyplot as plt\n",
    "import numpy as np"
   ]
  },
  {
   "cell_type": "markdown",
   "metadata": {},
   "source": [
    "# Loading MDAnalysis"
   ]
  },
  {
   "cell_type": "code",
   "execution_count": 5,
   "metadata": {
    "collapsed": false
   },
   "outputs": [
    {
     "data": {
      "text/plain": [
       "'0.14.0-dev0'"
      ]
     },
     "execution_count": 5,
     "metadata": {},
     "output_type": "execute_result"
    }
   ],
   "source": [
    "import MDAnalysis as mda\n",
    "mda.__version__"
   ]
  },
  {
   "cell_type": "markdown",
   "metadata": {},
   "source": [
    "#  The Universe\n",
    "\n",
    "The basic object to load structures and trajectories into MDAnalysis are Universes. Universe take a topology and a trajectory (optional) as arguments"
   ]
  },
  {
   "cell_type": "code",
   "execution_count": 13,
   "metadata": {
    "collapsed": true
   },
   "outputs": [],
   "source": [
    "TOPOLOGY = 'data/adk.psf'\n",
    "\n",
    "u = mda.Universe(TOPOLOGY)"
   ]
  },
  {
   "cell_type": "markdown",
   "metadata": {},
   "source": [
    "Universe extract all the information in the topology and make them available to you. For example you can see how many atoms are in the topology"
   ]
  },
  {
   "cell_type": "code",
   "execution_count": 14,
   "metadata": {
    "collapsed": false
   },
   "outputs": [
    {
     "data": {
      "text/plain": [
       "3341"
      ]
     },
     "execution_count": 14,
     "metadata": {},
     "output_type": "execute_result"
    }
   ],
   "source": [
    "u.atoms.n_atoms"
   ]
  },
  {
   "cell_type": "markdown",
   "metadata": {},
   "source": [
    "Or the number of individual residues"
   ]
  },
  {
   "cell_type": "code",
   "execution_count": 15,
   "metadata": {
    "collapsed": false
   },
   "outputs": [
    {
     "data": {
      "text/plain": [
       "214"
      ]
     },
     "execution_count": 15,
     "metadata": {},
     "output_type": "execute_result"
    }
   ],
   "source": [
    "u.residues.n_residues"
   ]
  },
  {
   "cell_type": "markdown",
   "metadata": {},
   "source": [
    "We can also leverage numpy to see how many unique residue types there are. Residue names are stored in `resnames`."
   ]
  },
  {
   "cell_type": "code",
   "execution_count": 22,
   "metadata": {
    "collapsed": false
   },
   "outputs": [
    {
     "data": {
      "text/plain": [
       "array(['ALA', 'ARG', 'ASN', 'ASP', 'CYS', 'GLN', 'GLU', 'GLY', 'HSD',\n",
       "       'ILE', 'LEU', 'LYS', 'MET', 'PHE', 'PRO', 'SER', 'THR', 'TYR', 'VAL'], \n",
       "      dtype='|S3')"
      ]
     },
     "execution_count": 22,
     "metadata": {},
     "output_type": "execute_result"
    }
   ],
   "source": [
    "np.unique(u.residues.resnames)"
   ]
  },
  {
   "cell_type": "markdown",
   "metadata": {},
   "source": [
    "# Select parts of a Topology\n",
    "\n",
    "mostly we don't want to work on a complete topology but only analyze a specific part (selection) of it. For this we can create selections. If we want to select all backbone atoms for example"
   ]
  },
  {
   "cell_type": "code",
   "execution_count": 23,
   "metadata": {
    "collapsed": true
   },
   "outputs": [],
   "source": [
    "bb = u.atoms.select_atoms('backbone')"
   ]
  },
  {
   "cell_type": "markdown",
   "metadata": {},
   "source": [
    "To check that only backbone atoms are selected we can look if we only have *C*, *CA*, *N* and *O* atoms"
   ]
  },
  {
   "cell_type": "code",
   "execution_count": 29,
   "metadata": {
    "collapsed": false
   },
   "outputs": [
    {
     "name": "stdout",
     "output_type": "stream",
     "text": [
      "number of backbone atoms : 855\n",
      "unique atoms types : ['C' 'CA' 'N' 'O']\n"
     ]
    }
   ],
   "source": [
    "print('number of backbone atoms : {}'.format(bb.n_atoms))\n",
    "print('unique atoms types : {}'.format(np.unique(bb.names)))"
   ]
  },
  {
   "cell_type": "markdown",
   "metadata": {},
   "source": [
    "Or we want to only select the C$_{\\alpha}$-atoms."
   ]
  },
  {
   "cell_type": "code",
   "execution_count": 30,
   "metadata": {
    "collapsed": true
   },
   "outputs": [],
   "source": [
    "ca = u.atoms.select_atoms('protein and name CA')"
   ]
  },
  {
   "cell_type": "code",
   "execution_count": 31,
   "metadata": {
    "collapsed": false
   },
   "outputs": [
    {
     "name": "stdout",
     "output_type": "stream",
     "text": [
      "number of Ca atoms : 214\n",
      "unique atoms types : ['CA']\n"
     ]
    }
   ],
   "source": [
    "print('number of Ca atoms : {}'.format(ca.n_atoms))\n",
    "print('unique atoms types : {}'.format(np.unique(ca.names)))"
   ]
  },
  {
   "cell_type": "markdown",
   "metadata": {},
   "source": [
    "The complete syntax and possible selection can be look up [here](http://pythonhosted.org/MDAnalysis/documentation_pages/selections.html#selection-commands-label)\n",
    "\n",
    "** NOTE **\n",
    "\n",
    "It is very important to select C$_{\\alpha}$-atoms with the string **`protein and name CA`** because Calcium ions also have the name `CA`."
   ]
  },
  {
   "cell_type": "markdown",
   "metadata": {},
   "source": [
    "## Load a trajectory\n",
    "\n",
    "To load a simulation we can give the Universe object also a trajectory file as an argument"
   ]
  },
  {
   "cell_type": "code",
   "execution_count": 32,
   "metadata": {
    "collapsed": true
   },
   "outputs": [],
   "source": [
    "TRAJECTORY = 'data/adk_dims.dcd'\n",
    "\n",
    "u = mda.Universe(TOPOLOGY, TRAJECTORY)"
   ]
  },
  {
   "cell_type": "markdown",
   "metadata": {},
   "source": [
    "now we can look how many frames the trajectory has"
   ]
  },
  {
   "cell_type": "code",
   "execution_count": 33,
   "metadata": {
    "collapsed": false
   },
   "outputs": [
    {
     "data": {
      "text/plain": [
       "98"
      ]
     },
     "execution_count": 33,
     "metadata": {},
     "output_type": "execute_result"
    }
   ],
   "source": [
    "u.trajectory.n_frames"
   ]
  },
  {
   "cell_type": "markdown",
   "metadata": {},
   "source": [
    "Iterating over a trajectory work pythonically."
   ]
  },
  {
   "cell_type": "code",
   "execution_count": 34,
   "metadata": {
    "collapsed": false,
    "scrolled": true
   },
   "outputs": [
    {
     "name": "stdout",
     "output_type": "stream",
     "text": [
      "0.0\n",
      "0.99999991192\n",
      "1.99999982384\n",
      "2.99999973576\n",
      "3.99999964768\n",
      "4.9999995596\n",
      "5.99999947152\n",
      "6.99999938344\n",
      "7.99999929536\n",
      "8.99999920728\n",
      "9.9999991192\n",
      "10.9999990311\n",
      "11.999998943\n",
      "12.999998855\n",
      "13.9999987669\n",
      "14.9999986788\n",
      "15.9999985907\n",
      "16.9999985026\n",
      "17.9999984146\n",
      "18.9999983265\n",
      "19.9999982384\n",
      "20.9999981503\n",
      "21.9999980622\n",
      "22.9999979742\n",
      "23.9999978861\n",
      "24.999997798\n",
      "25.9999977099\n",
      "26.9999976218\n",
      "27.9999975338\n",
      "28.9999974457\n",
      "29.9999973576\n",
      "30.9999972695\n",
      "31.9999971814\n",
      "32.9999970934\n",
      "33.9999970053\n",
      "34.9999969172\n",
      "35.9999968291\n",
      "36.999996741\n",
      "37.999996653\n",
      "38.9999965649\n",
      "39.9999964768\n",
      "40.9999963887\n",
      "41.9999963006\n",
      "42.9999962126\n",
      "43.9999961245\n",
      "44.9999960364\n",
      "45.9999959483\n",
      "46.9999958602\n",
      "47.9999957722\n",
      "48.9999956841\n",
      "49.999995596\n",
      "50.9999955079\n",
      "51.9999954198\n",
      "52.9999953318\n",
      "53.9999952437\n",
      "54.9999951556\n",
      "55.9999950675\n",
      "56.9999949794\n",
      "57.9999948914\n",
      "58.9999948033\n",
      "59.9999947152\n",
      "60.9999946271\n",
      "61.999994539\n",
      "62.999994451\n",
      "63.9999943629\n",
      "64.9999942748\n",
      "65.9999941867\n",
      "66.9999940986\n",
      "67.9999940106\n",
      "68.9999939225\n",
      "69.9999938344\n",
      "70.9999937463\n",
      "71.9999936582\n",
      "72.9999935702\n",
      "73.9999934821\n",
      "74.999993394\n",
      "75.9999933059\n",
      "76.9999932178\n",
      "77.9999931298\n",
      "78.9999930417\n",
      "79.9999929536\n",
      "80.9999928655\n",
      "81.9999927774\n",
      "82.9999926894\n",
      "83.9999926013\n",
      "84.9999925132\n",
      "85.9999924251\n",
      "86.999992337\n",
      "87.999992249\n",
      "88.9999921609\n",
      "89.9999920728\n",
      "90.9999919847\n",
      "91.9999918966\n",
      "92.9999918086\n",
      "93.9999917205\n",
      "94.9999916324\n",
      "95.9999915443\n",
      "96.9999914562\n"
     ]
    }
   ],
   "source": [
    "for time_step in u.trajectory:\n",
    "    print(time_step.time)"
   ]
  }
 ],
 "metadata": {
  "kernelspec": {
   "display_name": "Python 2",
   "language": "python",
   "name": "python2"
  },
  "language_info": {
   "codemirror_mode": {
    "name": "ipython",
    "version": 2
   },
   "file_extension": ".py",
   "mimetype": "text/x-python",
   "name": "python",
   "nbconvert_exporter": "python",
   "pygments_lexer": "ipython2",
   "version": "2.7.10"
  }
 },
 "nbformat": 4,
 "nbformat_minor": 0
}
