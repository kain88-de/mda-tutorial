{
 "cells": [
  {
   "cell_type": "markdown",
   "metadata": {},
   "source": [
    "This is a interactive tutorial for MDAnalysis\n",
    "\n",
    "# Content\n",
    "\n",
    "## Prerequsities\n",
    "\n",
    "## Basics\n",
    "\n",
    "[Basic usage of MDAnalysis](Basics.ipynb)\n",
    "\n",
    "## Analysis Tools\n",
    "\n",
    "[Trajectory Alignment](Alignment.ipynb)"
   ]
  }
 ],
 "metadata": {
  "kernelspec": {
   "display_name": "Python 2",
   "language": "python",
   "name": "python2"
  },
  "language_info": {
   "codemirror_mode": {
    "name": "ipython",
    "version": 2
   },
   "file_extension": ".py",
   "mimetype": "text/x-python",
   "name": "python",
   "nbconvert_exporter": "python",
   "pygments_lexer": "ipython2",
   "version": "2.7.10"
  }
 },
 "nbformat": 4,
 "nbformat_minor": 0
}
